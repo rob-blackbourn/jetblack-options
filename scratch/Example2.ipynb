{
 "cells": [
  {
   "cell_type": "code",
   "execution_count": null,
   "metadata": {},
   "outputs": [],
   "source": [
    "import pandas as pd\n",
    "import plotly.express as px\n",
    "import yfinance"
   ]
  },
  {
   "cell_type": "code",
   "execution_count": null,
   "metadata": {},
   "outputs": [],
   "source": [
    "msft = yfinance.Ticker('MSFT')\n",
    "msft.options"
   ]
  },
  {
   "cell_type": "code",
   "execution_count": null,
   "metadata": {},
   "outputs": [],
   "source": [
    "chain = msft.option_chain('2023-12-15')\n",
    "chain"
   ]
  },
  {
   "cell_type": "code",
   "execution_count": null,
   "metadata": {},
   "outputs": [],
   "source": [
    "px.line(chain.calls, x=\"strike\", y=\"impliedVolatility\")"
   ]
  },
  {
   "cell_type": "code",
   "execution_count": null,
   "metadata": {},
   "outputs": [],
   "source": [
    "calls = chain.calls.loc[chain.calls['strike'] >= 330].copy()\n",
    "calls['style'] = 'call'\n",
    "puts = chain.puts.loc[chain.puts['strike'] < 330].copy()\n",
    "puts['style'] = 'put'\n",
    "puts_calls = pd.concat([calls, puts], axis='index')\n",
    "puts_calls = puts_calls.sort_values('strike')\n",
    "puts_calls"
   ]
  },
  {
   "cell_type": "code",
   "execution_count": null,
   "metadata": {},
   "outputs": [],
   "source": [
    "# liq_put_calls = puts_calls[(puts_calls['volume'] > 10) & (puts_calls['openInterest'] == 0)]\n",
    "liq_put_calls = puts_calls[(puts_calls['strike'] >= 230) & (puts_calls['strike'] <= 430)]\n",
    "liq_put_calls"
   ]
  },
  {
   "cell_type": "code",
   "execution_count": null,
   "metadata": {},
   "outputs": [],
   "source": [
    "px.line(liq_put_calls, x=\"strike\", y=\"impliedVolatility\")"
   ]
  }
 ],
 "metadata": {
  "kernelspec": {
   "display_name": ".venv",
   "language": "python",
   "name": "python3"
  },
  "language_info": {
   "codemirror_mode": {
    "name": "ipython",
    "version": 3
   },
   "file_extension": ".py",
   "mimetype": "text/x-python",
   "name": "python",
   "nbconvert_exporter": "python",
   "pygments_lexer": "ipython3",
   "version": "3.8.16"
  },
  "orig_nbformat": 4
 },
 "nbformat": 4,
 "nbformat_minor": 2
}
