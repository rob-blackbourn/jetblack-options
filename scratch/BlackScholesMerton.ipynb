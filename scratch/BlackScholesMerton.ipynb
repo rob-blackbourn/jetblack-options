{
 "cells": [
  {
   "cell_type": "code",
   "execution_count": 2,
   "metadata": {},
   "outputs": [],
   "source": [
    "import jetblack_options.european.black_scholes_merton as bsm\n",
    "from jetblack_options.numeric_greeks.with_dividend_yield import NumericGreeks"
   ]
  },
  {
   "cell_type": "code",
   "execution_count": 3,
   "metadata": {},
   "outputs": [],
   "source": [
    "bsm_ng = NumericGreeks(bsm.price)"
   ]
  },
  {
   "cell_type": "code",
   "execution_count": 19,
   "metadata": {},
   "outputs": [
    {
     "data": {
      "text/plain": [
       "(11.71926586081906, 7.837224935973643)"
      ]
     },
     "execution_count": 19,
     "metadata": {},
     "output_type": "execute_result"
    }
   ],
   "source": [
    "call_price = bsm.price(True, 100, 100, 365/365, 0.05, 0.01, 0.25)\n",
    "put_price = bsm.price(False, 100, 100, 365/365, 0.05, 0.01, 0.25)\n",
    "call_price, put_price"
   ]
  },
  {
   "cell_type": "code",
   "execution_count": 20,
   "metadata": {},
   "outputs": [
    {
     "data": {
      "text/plain": [
       "(0.6060866568684856, -0.38396317688068254)"
      ]
     },
     "execution_count": 20,
     "metadata": {},
     "output_type": "execute_result"
    }
   ],
   "source": [
    "call_delta = bsm.delta(True, 100, 100, 365/365, 0.05, 0.01, 0.25)\n",
    "put_delta = bsm.delta(False, 100, 100, 365/365, 0.05, 0.01, 0.25)\n",
    "call_delta, put_delta"
   ]
  },
  {
   "cell_type": "code",
   "execution_count": 21,
   "metadata": {},
   "outputs": [
    {
     "data": {
      "text/plain": [
       "(0.015170130880480227, 0.015170130880480227)"
      ]
     },
     "execution_count": 21,
     "metadata": {},
     "output_type": "execute_result"
    }
   ],
   "source": [
    "call_gamma = bsm.gamma(100, 100, 365/365, 0.05, 0.01, 0.25)\n",
    "put_gamma = bsm.gamma(100, 100, 365/365, 0.05, 0.01, 0.25)\n",
    "call_gamma, put_gamma"
   ]
  },
  {
   "cell_type": "code",
   "execution_count": 15,
   "metadata": {},
   "outputs": [
    {
     "data": {
      "text/plain": [
       "(0.11389840061117712, 0.11389840061117712)"
      ]
     },
     "execution_count": 15,
     "metadata": {},
     "output_type": "execute_result"
    }
   ],
   "source": [
    "call_vega = bsm.vega(100, 100, 30/365, 0.05, 0.01, 0.25)\n",
    "put_vega = bsm.vega(100, 100, 30/365, 0.05, 0.01, 0.25)\n",
    "call_vega / 100, put_vega / 100"
   ]
  },
  {
   "cell_type": "code",
   "execution_count": 16,
   "metadata": {},
   "outputs": [
    {
     "data": {
      "text/plain": [
       "(-0.05287563243062428, -0.04197065763898778)"
      ]
     },
     "execution_count": 16,
     "metadata": {},
     "output_type": "execute_result"
    }
   ],
   "source": [
    "call_theta = bsm.theta(True, 100, 100, 30/365, 0.05, 0.01, 0.25)\n",
    "put_theta = bsm.theta(False, 100, 100, 30/365, 0.05, 0.01, 0.25)\n",
    "call_theta / 365, put_theta / 365"
   ]
  },
  {
   "cell_type": "code",
   "execution_count": 18,
   "metadata": {},
   "outputs": [
    {
     "data": {
      "text/plain": [
       "(0.04125501367379194, -0.04059968581367691)"
      ]
     },
     "execution_count": 18,
     "metadata": {},
     "output_type": "execute_result"
    }
   ],
   "source": [
    "call_rho = bsm.rho(True, 100, 100, 30/365, 0.05, 0.01, 0.25)\n",
    "put_rho = bsm.rho(False, 100, 100, 30/365, 0.05, 0.01, 0.25)\n",
    "call_rho / 100, put_rho / 100"
   ]
  }
 ],
 "metadata": {
  "kernelspec": {
   "display_name": ".venv",
   "language": "python",
   "name": "python3"
  },
  "language_info": {
   "codemirror_mode": {
    "name": "ipython",
    "version": 3
   },
   "file_extension": ".py",
   "mimetype": "text/x-python",
   "name": "python",
   "nbconvert_exporter": "python",
   "pygments_lexer": "ipython3",
   "version": "3.11.3"
  }
 },
 "nbformat": 4,
 "nbformat_minor": 2
}
